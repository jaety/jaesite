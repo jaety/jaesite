{
 "cells": [
  {
   "cell_type": "markdown",
   "metadata": {},
   "source": [
    "# Wiki Data Retrieve\n",
    "An example of using python to retrieve and display data from the wikidata SPARQL endpoint"
   ]
  },
  {
   "cell_type": "code",
   "execution_count": 38,
   "metadata": {},
   "outputs": [],
   "source": [
    "import requests\n",
    "import os \n",
    "import pandas as pd"
   ]
  },
  {
   "cell_type": "code",
   "execution_count": 7,
   "metadata": {},
   "outputs": [],
   "source": [
    "from string import Template\n",
    "def counts_query(begin,end):\n",
    "    tmpl =  Template(\"\"\"\n",
    "        SELECT ?year (count(?person) AS ?personCount) WHERE {\n",
    "          ?person wdt:P31 wd:Q5;\n",
    "                  wdt:P569 ?birth.\n",
    "          hint:Prior hint:rangeSafe \"true\"^^xsd:boolean.\n",
    "          FILTER((?birth > \"$begin-01-01\"^^xsd:dateTime) && (?birth < \"$end-01-01\"^^xsd:dateTime))\n",
    "          BIND (year(?birth) as ?year)\n",
    "          # \n",
    "        }\n",
    "        group by ?year\n",
    "        order by ?year\n",
    "        \"\"\")\n",
    "    return tmpl.substitute(dict(begin=begin, end=end))"
   ]
  },
  {
   "cell_type": "code",
   "execution_count": 60,
   "metadata": {},
   "outputs": [],
   "source": [
    "import logging\n",
    "def pull_from_wikidata(query):\n",
    "    url = 'https://query.wikidata.org/sparql'\n",
    "    r = requests.get(url, params = {'format': 'json', 'query': query})\n",
    "    if r.status_code == requests.codes.too_many_requests:\n",
    "        logging.warning(\"timeout\")\n",
    "        return None\n",
    "    else:\n",
    "        data = r.json()    \n",
    "        return data"
   ]
  },
  {
   "cell_type": "code",
   "execution_count": 9,
   "metadata": {},
   "outputs": [],
   "source": [
    "ranges = [(-3000,0),(0,1500),(1500,1700),(1700,1800),(1800,1850),\n",
    "          (1850,1900),(1900,1925),(1925,1950),(1950,1960),(1960,1970),\n",
    "          (1970,1980),(1980,1990),(1990,2000),(2000,2010)]"
   ]
  },
  {
   "cell_type": "code",
   "execution_count": 10,
   "metadata": {},
   "outputs": [],
   "source": [
    "results = {}"
   ]
  },
  {
   "cell_type": "code",
   "execution_count": 11,
   "metadata": {},
   "outputs": [],
   "source": [
    "def fill_results(results, ranges):\n",
    "    empty_ranges = [r for r in ranges if r not in results]\n",
    "    if empty_ranges:\n",
    "        r = empty_ranges[0]\n",
    "        data = pull_from_wikidata(counts_query(r[0],r[1]))\n",
    "        if data:\n",
    "            results[r] = data"
   ]
  },
  {
   "cell_type": "code",
   "execution_count": 77,
   "metadata": {},
   "outputs": [
    {
     "data": {
      "text/plain": [
       "dict_keys([(-3000, 0), (0, 1500), (1500, 1700), (1700, 1800), (1800, 1850), (1850, 1900), (1900, 1925), (1925, 1950), (1950, 1960), (1960, 1970), (1970, 1980)])"
      ]
     },
     "execution_count": 77,
     "metadata": {},
     "output_type": "execute_result"
    }
   ],
   "source": [
    "results.keys()"
   ]
  },
  {
   "cell_type": "code",
   "execution_count": 31,
   "metadata": {},
   "outputs": [
    {
     "data": {
      "text/plain": [
       "dict_keys([(-3000, 0), (0, 1500), (1500, 1700), (1700, 1800), (1800, 1850), (1850, 1900), (1900, 1925), (1925, 1950), (1950, 1960), (1960, 1970), (1970, 1980)])"
      ]
     },
     "execution_count": 31,
     "metadata": {},
     "output_type": "execute_result"
    }
   ],
   "source": [
    "fill_results(results,ranges)\n",
    "results.keys()"
   ]
  },
  {
   "cell_type": "code",
   "execution_count": 32,
   "metadata": {},
   "outputs": [],
   "source": [
    "import pickle\n",
    "with open('results.pickle','wb') as fout:\n",
    "    pickle.dump(results, fout)"
   ]
  },
  {
   "cell_type": "markdown",
   "metadata": {},
   "source": [
    "***********************************************************"
   ]
  },
  {
   "cell_type": "code",
   "execution_count": 36,
   "metadata": {},
   "outputs": [],
   "source": [
    "data = []\n",
    "for rng,result in results.items():\n",
    "    for item in result['results']['bindings']:\n",
    "        data.append({'year':int(item['year']['value']), 'count':int(item['personCount']['value'])})"
   ]
  },
  {
   "cell_type": "code",
   "execution_count": 42,
   "metadata": {},
   "outputs": [],
   "source": [
    "all_counts = pd.DataFrame.from_records(data, index=\"year\")"
   ]
  },
  {
   "cell_type": "code",
   "execution_count": 91,
   "metadata": {},
   "outputs": [],
   "source": [
    "import math\n",
    "all_counts[\"group\"] = all_counts[\"count\"].cumsum().apply(lambda x: math.floor(x / 5000))"
   ]
  },
  {
   "cell_type": "code",
   "execution_count": 153,
   "metadata": {},
   "outputs": [
    {
     "data": {
      "text/html": [
       "<div>\n",
       "<style scoped>\n",
       "    .dataframe tbody tr th:only-of-type {\n",
       "        vertical-align: middle;\n",
       "    }\n",
       "\n",
       "    .dataframe tbody tr th {\n",
       "        vertical-align: top;\n",
       "    }\n",
       "\n",
       "    .dataframe thead th {\n",
       "        text-align: right;\n",
       "    }\n",
       "</style>\n",
       "<table border=\"1\" class=\"dataframe\">\n",
       "  <thead>\n",
       "    <tr style=\"text-align: right;\">\n",
       "      <th></th>\n",
       "      <th>count</th>\n",
       "      <th>group</th>\n",
       "    </tr>\n",
       "    <tr>\n",
       "      <th>year</th>\n",
       "      <th></th>\n",
       "      <th></th>\n",
       "    </tr>\n",
       "  </thead>\n",
       "  <tbody>\n",
       "    <tr>\n",
       "      <th>1843</th>\n",
       "      <td>5596</td>\n",
       "      <td>115</td>\n",
       "    </tr>\n",
       "    <tr>\n",
       "      <th>1844</th>\n",
       "      <td>6017</td>\n",
       "      <td>116</td>\n",
       "    </tr>\n",
       "    <tr>\n",
       "      <th>1845</th>\n",
       "      <td>5892</td>\n",
       "      <td>117</td>\n",
       "    </tr>\n",
       "    <tr>\n",
       "      <th>1846</th>\n",
       "      <td>5700</td>\n",
       "      <td>118</td>\n",
       "    </tr>\n",
       "    <tr>\n",
       "      <th>1847</th>\n",
       "      <td>5732</td>\n",
       "      <td>119</td>\n",
       "    </tr>\n",
       "  </tbody>\n",
       "</table>\n",
       "</div>"
      ],
      "text/plain": [
       "      count  group\n",
       "year              \n",
       "1843   5596    115\n",
       "1844   6017    116\n",
       "1845   5892    117\n",
       "1846   5700    118\n",
       "1847   5732    119"
      ]
     },
     "execution_count": 153,
     "metadata": {},
     "output_type": "execute_result"
    }
   ],
   "source": [
    "all_counts[all_counts.group < 120].tail()"
   ]
  },
  {
   "cell_type": "code",
   "execution_count": 47,
   "metadata": {},
   "outputs": [],
   "source": [
    "with open('all_counts.pickle','wb') as fout:\n",
    "    pickle.dump(all_counts,fout)"
   ]
  },
  {
   "cell_type": "markdown",
   "metadata": {},
   "source": [
    "*************"
   ]
  },
  {
   "cell_type": "code",
   "execution_count": 61,
   "metadata": {},
   "outputs": [],
   "source": [
    "def people_query(begin,end):\n",
    "    tmpl = Template(\"\"\"\n",
    "SELECT ?person ?personLabel ?personDescription ?birth ?placeOfBirth ?placeOfBirthLabel ?birthCoords ?death ?placeOfDeath ?placeOfDeathLabel ?deathCoords ?image WHERE {\n",
    "  ?person wdt:P31 wd:Q5;\n",
    "    wdt:P19 ?placeOfBirth;\n",
    "    wdt:P569 ?birth.\n",
    "  hint:Prior hint:rangeSafe \"true\"^^xsd:boolean.\n",
    "  FILTER((?birth > \"$begin-01-01\"^^xsd:dateTime) && (?birth < \"$end-01-01\"^^xsd:dateTime))\n",
    "  ?placeOfBirth wdt:P625 ?birthCoords.\n",
    "  OPTIONAL {\n",
    "    ?person wdt:P18 ?image;\n",
    "      wdt:P570 ?death;\n",
    "      wdt:P20 ?placeOfDeath.\n",
    "    ?placeOfDeath wdt:P625 ?deathCoords.\n",
    "  }\n",
    "  SERVICE wikibase:label { bd:serviceParam wikibase:language \"en\". }\n",
    "}\n",
    "    \"\"\")\n",
    "    return tmpl.substitute(begin=begin, end=end)"
   ]
  },
  {
   "cell_type": "code",
   "execution_count": 154,
   "metadata": {},
   "outputs": [],
   "source": [
    "all_dates = [-3000,1149,1459,1572,1632,1684,1728,1754,1774,1791,1804,1814,1823,1832,1840,1847]\n",
    "dates = (all_dates[-2], all_dates[-1])\n",
    "data = pull_from_wikidata(people_query(dates[0],dates[1]))\n",
    "people_data[dates] = data"
   ]
  },
  {
   "cell_type": "code",
   "execution_count": 155,
   "metadata": {},
   "outputs": [
    {
     "data": {
      "text/plain": [
       "23786"
      ]
     },
     "execution_count": 155,
     "metadata": {},
     "output_type": "execute_result"
    }
   ],
   "source": [
    "len(data['results']['bindings'])"
   ]
  },
  {
   "cell_type": "code",
   "execution_count": 156,
   "metadata": {},
   "outputs": [],
   "source": [
    "import pickle\n",
    "with open('people_data.pickle','wb') as fout:\n",
    "    pickle.dump(people_data, fout)"
   ]
  },
  {
   "cell_type": "code",
   "execution_count": 157,
   "metadata": {},
   "outputs": [
    {
     "data": {
      "text/plain": [
       "dict_keys([(-3000, 1149), (1149, 1459), (1459, 1572), (1572, 1632), (1632, 1684), (1684, 1728), (1728, 1754), (1754, 1774), (1774, 1791), (1791, 1804), (1804, 1814), (1814, 1823), (1823, 1832), (1832, 1840), (1840, 1847)])"
      ]
     },
     "execution_count": 157,
     "metadata": {},
     "output_type": "execute_result"
    }
   ],
   "source": [
    "people_data.keys()"
   ]
  },
  {
   "cell_type": "code",
   "execution_count": 71,
   "metadata": {},
   "outputs": [],
   "source": [
    " def deepquery(item, path, default = None):\n",
    "        keys = path.split(\"/\")\n",
    "        val = None\n",
    "\n",
    "        for key in keys:\n",
    "            if val:\n",
    "                if isinstance(val, list):\n",
    "                    val = [ v.get(key, default) if v else None for v in val]\n",
    "                else:\n",
    "                    val = val.get(key, default)\n",
    "            else:\n",
    "                val = dict.get(item, key, default)\n",
    "\n",
    "            if not val:\n",
    "                break;\n",
    "\n",
    "        return val"
   ]
  },
  {
   "cell_type": "code",
   "execution_count": 74,
   "metadata": {},
   "outputs": [],
   "source": [
    "def to_pandas(data):\n",
    "    results = []\n",
    "    vars = data['head']['vars']\n",
    "    for item in data['results']['bindings']:\n",
    "        row = {}\n",
    "        for var in vars:\n",
    "            row[var] = deepquery(item, var + '/value')\n",
    "            results.append(row)\n",
    "    return pd.DataFrame.from_records(results)"
   ]
  },
  {
   "cell_type": "code",
   "execution_count": 158,
   "metadata": {},
   "outputs": [],
   "source": [
    "arrays = []\n",
    "for key in people_data:\n",
    "    arrays.append(to_pandas(people_data[key]))\n",
    "    \n",
    "people_frame = pd.concat(arrays).drop_duplicates()"
   ]
  },
  {
   "cell_type": "code",
   "execution_count": 162,
   "metadata": {},
   "outputs": [],
   "source": [
    "people_frame = people_frame.drop_duplicates()"
   ]
  },
  {
   "cell_type": "code",
   "execution_count": 163,
   "metadata": {},
   "outputs": [
    {
     "data": {
      "text/plain": [
       "(291712, 12)"
      ]
     },
     "execution_count": 163,
     "metadata": {},
     "output_type": "execute_result"
    }
   ],
   "source": [
    "people_frame.shape"
   ]
  },
  {
   "cell_type": "code",
   "execution_count": 165,
   "metadata": {},
   "outputs": [],
   "source": [
    "with open('people_frame.pickle','wb') as fout:\n",
    "    pickle.dump(people_frame, fout)"
   ]
  },
  {
   "cell_type": "code",
   "execution_count": 164,
   "metadata": {},
   "outputs": [
    {
     "data": {
      "text/plain": [
       "263959"
      ]
     },
     "execution_count": 164,
     "metadata": {},
     "output_type": "execute_result"
    }
   ],
   "source": [
    "len(people_frame.person.unique())"
   ]
  },
  {
   "cell_type": "code",
   "execution_count": 16,
   "metadata": {},
   "outputs": [
    {
     "data": {
      "text/html": [
       "<div>\n",
       "<style scoped>\n",
       "    .dataframe tbody tr th:only-of-type {\n",
       "        vertical-align: middle;\n",
       "    }\n",
       "\n",
       "    .dataframe tbody tr th {\n",
       "        vertical-align: top;\n",
       "    }\n",
       "\n",
       "    .dataframe thead th {\n",
       "        text-align: right;\n",
       "    }\n",
       "</style>\n",
       "<table border=\"1\" class=\"dataframe\">\n",
       "  <thead>\n",
       "    <tr style=\"text-align: right;\">\n",
       "      <th></th>\n",
       "      <th>wikidataUrl</th>\n",
       "      <th>birthCoord</th>\n",
       "      <th>image</th>\n",
       "      <th>label</th>\n",
       "      <th>description</th>\n",
       "    </tr>\n",
       "  </thead>\n",
       "  <tbody>\n",
       "    <tr>\n",
       "      <th>0</th>\n",
       "      <td>http://www.wikidata.org/entity/Q17892</td>\n",
       "      <td>Point(26.333333333 39.166666666)</td>\n",
       "      <td>http://commons.wikimedia.org/wiki/Special:File...</td>\n",
       "      <td>Sappho</td>\n",
       "      <td>ancient Greek lyric poet</td>\n",
       "    </tr>\n",
       "    <tr>\n",
       "      <th>1</th>\n",
       "      <td>http://www.wikidata.org/entity/Q17892</td>\n",
       "      <td>Point(25.933055555 39.166666666)</td>\n",
       "      <td>http://commons.wikimedia.org/wiki/Special:File...</td>\n",
       "      <td>Sappho</td>\n",
       "      <td>ancient Greek lyric poet</td>\n",
       "    </tr>\n",
       "    <tr>\n",
       "      <th>2</th>\n",
       "      <td>http://www.wikidata.org/entity/Q28988</td>\n",
       "      <td>Point(77.0 22.0)</td>\n",
       "      <td>http://commons.wikimedia.org/wiki/Special:File...</td>\n",
       "      <td>Ananda</td>\n",
       "      <td>one of the principal disciples and a devout at...</td>\n",
       "    </tr>\n",
       "    <tr>\n",
       "      <th>3</th>\n",
       "      <td>http://www.wikidata.org/entity/Q36303</td>\n",
       "      <td>Point(27.275556 37.531111)</td>\n",
       "      <td>http://commons.wikimedia.org/wiki/Special:File...</td>\n",
       "      <td>Thales</td>\n",
       "      <td>ancient Greek philosopher and mathematician</td>\n",
       "    </tr>\n",
       "    <tr>\n",
       "      <th>4</th>\n",
       "      <td>http://www.wikidata.org/entity/Q41328</td>\n",
       "      <td>Point(47.0 37.0)</td>\n",
       "      <td>http://commons.wikimedia.org/wiki/Special:File...</td>\n",
       "      <td>Datis</td>\n",
       "      <td>None</td>\n",
       "    </tr>\n",
       "  </tbody>\n",
       "</table>\n",
       "</div>"
      ],
      "text/plain": [
       "                             wikidataUrl                        birthCoord  \\\n",
       "0  http://www.wikidata.org/entity/Q17892  Point(26.333333333 39.166666666)   \n",
       "1  http://www.wikidata.org/entity/Q17892  Point(25.933055555 39.166666666)   \n",
       "2  http://www.wikidata.org/entity/Q28988                  Point(77.0 22.0)   \n",
       "3  http://www.wikidata.org/entity/Q36303        Point(27.275556 37.531111)   \n",
       "4  http://www.wikidata.org/entity/Q41328                  Point(47.0 37.0)   \n",
       "\n",
       "                                               image   label  \\\n",
       "0  http://commons.wikimedia.org/wiki/Special:File...  Sappho   \n",
       "1  http://commons.wikimedia.org/wiki/Special:File...  Sappho   \n",
       "2  http://commons.wikimedia.org/wiki/Special:File...  Ananda   \n",
       "3  http://commons.wikimedia.org/wiki/Special:File...  Thales   \n",
       "4  http://commons.wikimedia.org/wiki/Special:File...   Datis   \n",
       "\n",
       "                                         description  \n",
       "0                           ancient Greek lyric poet  \n",
       "1                           ancient Greek lyric poet  \n",
       "2  one of the principal disciples and a devout at...  \n",
       "3        ancient Greek philosopher and mathematician  \n",
       "4                                               None  "
      ]
     },
     "execution_count": 16,
     "metadata": {},
     "output_type": "execute_result"
    }
   ],
   "source": [
    "\n",
    "countries = []\n",
    "for item in data['results']['bindings']:\n",
    "    countries.append(OrderedDict({\n",
    "        'wikidataUrl' : item['person']['value'],\n",
    "        'birthCoord'  : item['birthCoords']['value'],\n",
    "        'image'       : deepquery(item, 'image/value', ''),\n",
    "        'label'       : deepquery(item, \"personLabel/value\",\"\"),\n",
    "        'description' : deepquery(item, \"personDescription/value\")\n",
    "    }))\n",
    "df = pd.DataFrame.from_records(countries)\n",
    "df.head()"
   ]
  },
  {
   "cell_type": "code",
   "execution_count": 18,
   "metadata": {},
   "outputs": [
    {
     "data": {
      "text/plain": [
       "{'person': {'type': 'uri', 'value': 'http://www.wikidata.org/entity/Q17892'},\n",
       " 'birthCoords': {'datatype': 'http://www.opengis.net/ont/geosparql#wktLiteral',\n",
       "  'type': 'literal',\n",
       "  'value': 'Point(26.333333333 39.166666666)'},\n",
       " 'image': {'type': 'uri',\n",
       "  'value': 'http://commons.wikimedia.org/wiki/Special:FilePath/Bust%20Sappho%20Musei%20Capitolini%20MC1164.jpg'},\n",
       " 'personLabel': {'xml:lang': 'en', 'type': 'literal', 'value': 'Sappho'},\n",
       " 'personDescription': {'xml:lang': 'en',\n",
       "  'type': 'literal',\n",
       "  'value': 'ancient Greek lyric poet'}}"
      ]
     },
     "execution_count": 18,
     "metadata": {},
     "output_type": "execute_result"
    }
   ],
   "source": [
    "data['results']['bindings'][0]"
   ]
  },
  {
   "cell_type": "code",
   "execution_count": 51,
   "metadata": {},
   "outputs": [],
   "source": [
    "from geomet import wkt\n",
    "def parse(items):\n",
    "    result = {}\n",
    "    for key,item in items.items():\n",
    "        typ = item['type']\n",
    "        if typ == 'literal' and item.get('datatype',None) == 'http://www.opengis.net/ont/geosparql#wktLiteral':\n",
    "            result[key] = wkt.loads(str.upper(item['value']))\n",
    "        elif typ in ['uri','literal'] : \n",
    "            result[key] = item['value']\n",
    "    return result            "
   ]
  },
  {
   "cell_type": "code",
   "execution_count": 54,
   "metadata": {},
   "outputs": [],
   "source": [
    "people = pd.DataFrame.from_records([parse(item) for item in data['results']['bindings']])"
   ]
  },
  {
   "cell_type": "code",
   "execution_count": 55,
   "metadata": {},
   "outputs": [
    {
     "data": {
      "text/html": [
       "<div>\n",
       "<style scoped>\n",
       "    .dataframe tbody tr th:only-of-type {\n",
       "        vertical-align: middle;\n",
       "    }\n",
       "\n",
       "    .dataframe tbody tr th {\n",
       "        vertical-align: top;\n",
       "    }\n",
       "\n",
       "    .dataframe thead th {\n",
       "        text-align: right;\n",
       "    }\n",
       "</style>\n",
       "<table border=\"1\" class=\"dataframe\">\n",
       "  <thead>\n",
       "    <tr style=\"text-align: right;\">\n",
       "      <th></th>\n",
       "      <th>birthCoords</th>\n",
       "      <th>image</th>\n",
       "      <th>person</th>\n",
       "      <th>personDescription</th>\n",
       "      <th>personLabel</th>\n",
       "    </tr>\n",
       "  </thead>\n",
       "  <tbody>\n",
       "    <tr>\n",
       "      <th>0</th>\n",
       "      <td>{'type': 'Point', 'coordinates': [26.333333333...</td>\n",
       "      <td>http://commons.wikimedia.org/wiki/Special:File...</td>\n",
       "      <td>http://www.wikidata.org/entity/Q17892</td>\n",
       "      <td>ancient Greek lyric poet</td>\n",
       "      <td>Sappho</td>\n",
       "    </tr>\n",
       "    <tr>\n",
       "      <th>1</th>\n",
       "      <td>{'type': 'Point', 'coordinates': [25.933055555...</td>\n",
       "      <td>http://commons.wikimedia.org/wiki/Special:File...</td>\n",
       "      <td>http://www.wikidata.org/entity/Q17892</td>\n",
       "      <td>ancient Greek lyric poet</td>\n",
       "      <td>Sappho</td>\n",
       "    </tr>\n",
       "    <tr>\n",
       "      <th>2</th>\n",
       "      <td>{'type': 'Point', 'coordinates': [77.0, 22.0]}</td>\n",
       "      <td>http://commons.wikimedia.org/wiki/Special:File...</td>\n",
       "      <td>http://www.wikidata.org/entity/Q28988</td>\n",
       "      <td>one of the principal disciples and a devout at...</td>\n",
       "      <td>Ananda</td>\n",
       "    </tr>\n",
       "    <tr>\n",
       "      <th>3</th>\n",
       "      <td>{'type': 'Point', 'coordinates': [27.275556, 3...</td>\n",
       "      <td>http://commons.wikimedia.org/wiki/Special:File...</td>\n",
       "      <td>http://www.wikidata.org/entity/Q36303</td>\n",
       "      <td>ancient Greek philosopher and mathematician</td>\n",
       "      <td>Thales</td>\n",
       "    </tr>\n",
       "    <tr>\n",
       "      <th>4</th>\n",
       "      <td>{'type': 'Point', 'coordinates': [47.0, 37.0]}</td>\n",
       "      <td>http://commons.wikimedia.org/wiki/Special:File...</td>\n",
       "      <td>http://www.wikidata.org/entity/Q41328</td>\n",
       "      <td>NaN</td>\n",
       "      <td>Datis</td>\n",
       "    </tr>\n",
       "  </tbody>\n",
       "</table>\n",
       "</div>"
      ],
      "text/plain": [
       "                                         birthCoords  \\\n",
       "0  {'type': 'Point', 'coordinates': [26.333333333...   \n",
       "1  {'type': 'Point', 'coordinates': [25.933055555...   \n",
       "2     {'type': 'Point', 'coordinates': [77.0, 22.0]}   \n",
       "3  {'type': 'Point', 'coordinates': [27.275556, 3...   \n",
       "4     {'type': 'Point', 'coordinates': [47.0, 37.0]}   \n",
       "\n",
       "                                               image  \\\n",
       "0  http://commons.wikimedia.org/wiki/Special:File...   \n",
       "1  http://commons.wikimedia.org/wiki/Special:File...   \n",
       "2  http://commons.wikimedia.org/wiki/Special:File...   \n",
       "3  http://commons.wikimedia.org/wiki/Special:File...   \n",
       "4  http://commons.wikimedia.org/wiki/Special:File...   \n",
       "\n",
       "                                  person  \\\n",
       "0  http://www.wikidata.org/entity/Q17892   \n",
       "1  http://www.wikidata.org/entity/Q17892   \n",
       "2  http://www.wikidata.org/entity/Q28988   \n",
       "3  http://www.wikidata.org/entity/Q36303   \n",
       "4  http://www.wikidata.org/entity/Q41328   \n",
       "\n",
       "                                   personDescription personLabel  \n",
       "0                           ancient Greek lyric poet      Sappho  \n",
       "1                           ancient Greek lyric poet      Sappho  \n",
       "2  one of the principal disciples and a devout at...      Ananda  \n",
       "3        ancient Greek philosopher and mathematician      Thales  \n",
       "4                                                NaN       Datis  "
      ]
     },
     "execution_count": 55,
     "metadata": {},
     "output_type": "execute_result"
    }
   ],
   "source": [
    "people.head()"
   ]
  },
  {
   "cell_type": "code",
   "execution_count": 60,
   "metadata": {},
   "outputs": [],
   "source": [
    "def to_pandas(data):\n",
    "    return pd.DataFrame.from_records([parse(item) for item in data['results']['bindings']])"
   ]
  },
  {
   "cell_type": "code",
   "execution_count": 93,
   "metadata": {},
   "outputs": [],
   "source": [
    "def collect(ranges):\n",
    "    results = {}\n",
    "    for r in ranges:\n",
    "        data = pull_from_wikidata(counts_query(r[0],r[1]))\n",
    "        results[r] = data\n",
    "        yield results"
   ]
  },
  {
   "cell_type": "code",
   "execution_count": 101,
   "metadata": {},
   "outputs": [],
   "source": [
    "collector = collect(ranges)"
   ]
  },
  {
   "cell_type": "code",
   "execution_count": 110,
   "metadata": {},
   "outputs": [
    {
     "ename": "StopIteration",
     "evalue": "",
     "output_type": "error",
     "traceback": [
      "\u001b[0;31m---------------------------------------------------------------------------\u001b[0m",
      "\u001b[0;31mStopIteration\u001b[0m                             Traceback (most recent call last)",
      "\u001b[0;32m<ipython-input-110-2d30169a8aec>\u001b[0m in \u001b[0;36m<module>\u001b[0;34m\u001b[0m\n\u001b[0;32m----> 1\u001b[0;31m \u001b[0mresult\u001b[0m \u001b[0;34m=\u001b[0m \u001b[0mnext\u001b[0m\u001b[0;34m(\u001b[0m\u001b[0mcollector\u001b[0m\u001b[0;34m)\u001b[0m\u001b[0;34m\u001b[0m\u001b[0;34m\u001b[0m\u001b[0m\n\u001b[0m",
      "\u001b[0;31mStopIteration\u001b[0m: "
     ]
    }
   ],
   "source": [
    "result = next(collector)"
   ]
  },
  {
   "cell_type": "code",
   "execution_count": 111,
   "metadata": {},
   "outputs": [
    {
     "data": {
      "text/plain": [
       "dict_keys([(-3000, 0), (0, 1500), (1500, 1700)])"
      ]
     },
     "execution_count": 111,
     "metadata": {},
     "output_type": "execute_result"
    }
   ],
   "source": [
    "result.keys()"
   ]
  },
  {
   "cell_type": "code",
   "execution_count": 88,
   "metadata": {},
   "outputs": [
    {
     "name": "stdout",
     "output_type": "stream",
     "text": [
      "<Response [200]>\n"
     ]
    }
   ],
   "source": [
    "x = pull_from_wikidata(counts_query(1800,1850))\n"
   ]
  },
  {
   "cell_type": "code",
   "execution_count": 89,
   "metadata": {},
   "outputs": [
    {
     "data": {
      "text/html": [
       "<div>\n",
       "<style scoped>\n",
       "    .dataframe tbody tr th:only-of-type {\n",
       "        vertical-align: middle;\n",
       "    }\n",
       "\n",
       "    .dataframe tbody tr th {\n",
       "        vertical-align: top;\n",
       "    }\n",
       "\n",
       "    .dataframe thead th {\n",
       "        text-align: right;\n",
       "    }\n",
       "</style>\n",
       "<table border=\"1\" class=\"dataframe\">\n",
       "  <thead>\n",
       "    <tr style=\"text-align: right;\">\n",
       "      <th></th>\n",
       "      <th>personCount</th>\n",
       "      <th>year</th>\n",
       "    </tr>\n",
       "  </thead>\n",
       "  <tbody>\n",
       "    <tr>\n",
       "      <th>0</th>\n",
       "      <td>2052</td>\n",
       "      <td>1800</td>\n",
       "    </tr>\n",
       "    <tr>\n",
       "      <th>1</th>\n",
       "      <td>4555</td>\n",
       "      <td>1801</td>\n",
       "    </tr>\n",
       "    <tr>\n",
       "      <th>2</th>\n",
       "      <td>3465</td>\n",
       "      <td>1802</td>\n",
       "    </tr>\n",
       "    <tr>\n",
       "      <th>3</th>\n",
       "      <td>3383</td>\n",
       "      <td>1803</td>\n",
       "    </tr>\n",
       "    <tr>\n",
       "      <th>4</th>\n",
       "      <td>3553</td>\n",
       "      <td>1804</td>\n",
       "    </tr>\n",
       "    <tr>\n",
       "      <th>5</th>\n",
       "      <td>3596</td>\n",
       "      <td>1805</td>\n",
       "    </tr>\n",
       "    <tr>\n",
       "      <th>6</th>\n",
       "      <td>3470</td>\n",
       "      <td>1806</td>\n",
       "    </tr>\n",
       "    <tr>\n",
       "      <th>7</th>\n",
       "      <td>3544</td>\n",
       "      <td>1807</td>\n",
       "    </tr>\n",
       "    <tr>\n",
       "      <th>8</th>\n",
       "      <td>3841</td>\n",
       "      <td>1808</td>\n",
       "    </tr>\n",
       "    <tr>\n",
       "      <th>9</th>\n",
       "      <td>3775</td>\n",
       "      <td>1809</td>\n",
       "    </tr>\n",
       "    <tr>\n",
       "      <th>10</th>\n",
       "      <td>4200</td>\n",
       "      <td>1810</td>\n",
       "    </tr>\n",
       "    <tr>\n",
       "      <th>11</th>\n",
       "      <td>3975</td>\n",
       "      <td>1811</td>\n",
       "    </tr>\n",
       "    <tr>\n",
       "      <th>12</th>\n",
       "      <td>4084</td>\n",
       "      <td>1812</td>\n",
       "    </tr>\n",
       "    <tr>\n",
       "      <th>13</th>\n",
       "      <td>3928</td>\n",
       "      <td>1813</td>\n",
       "    </tr>\n",
       "    <tr>\n",
       "      <th>14</th>\n",
       "      <td>4069</td>\n",
       "      <td>1814</td>\n",
       "    </tr>\n",
       "    <tr>\n",
       "      <th>15</th>\n",
       "      <td>4440</td>\n",
       "      <td>1815</td>\n",
       "    </tr>\n",
       "    <tr>\n",
       "      <th>16</th>\n",
       "      <td>4201</td>\n",
       "      <td>1816</td>\n",
       "    </tr>\n",
       "    <tr>\n",
       "      <th>17</th>\n",
       "      <td>4319</td>\n",
       "      <td>1817</td>\n",
       "    </tr>\n",
       "    <tr>\n",
       "      <th>18</th>\n",
       "      <td>4495</td>\n",
       "      <td>1818</td>\n",
       "    </tr>\n",
       "    <tr>\n",
       "      <th>19</th>\n",
       "      <td>4532</td>\n",
       "      <td>1819</td>\n",
       "    </tr>\n",
       "    <tr>\n",
       "      <th>20</th>\n",
       "      <td>4884</td>\n",
       "      <td>1820</td>\n",
       "    </tr>\n",
       "    <tr>\n",
       "      <th>21</th>\n",
       "      <td>4517</td>\n",
       "      <td>1821</td>\n",
       "    </tr>\n",
       "    <tr>\n",
       "      <th>22</th>\n",
       "      <td>4479</td>\n",
       "      <td>1822</td>\n",
       "    </tr>\n",
       "    <tr>\n",
       "      <th>23</th>\n",
       "      <td>4492</td>\n",
       "      <td>1823</td>\n",
       "    </tr>\n",
       "    <tr>\n",
       "      <th>24</th>\n",
       "      <td>4550</td>\n",
       "      <td>1824</td>\n",
       "    </tr>\n",
       "    <tr>\n",
       "      <th>25</th>\n",
       "      <td>4762</td>\n",
       "      <td>1825</td>\n",
       "    </tr>\n",
       "    <tr>\n",
       "      <th>26</th>\n",
       "      <td>4521</td>\n",
       "      <td>1826</td>\n",
       "    </tr>\n",
       "    <tr>\n",
       "      <th>27</th>\n",
       "      <td>4594</td>\n",
       "      <td>1827</td>\n",
       "    </tr>\n",
       "    <tr>\n",
       "      <th>28</th>\n",
       "      <td>4732</td>\n",
       "      <td>1828</td>\n",
       "    </tr>\n",
       "    <tr>\n",
       "      <th>29</th>\n",
       "      <td>4641</td>\n",
       "      <td>1829</td>\n",
       "    </tr>\n",
       "    <tr>\n",
       "      <th>30</th>\n",
       "      <td>5092</td>\n",
       "      <td>1830</td>\n",
       "    </tr>\n",
       "    <tr>\n",
       "      <th>31</th>\n",
       "      <td>4619</td>\n",
       "      <td>1831</td>\n",
       "    </tr>\n",
       "    <tr>\n",
       "      <th>32</th>\n",
       "      <td>4691</td>\n",
       "      <td>1832</td>\n",
       "    </tr>\n",
       "    <tr>\n",
       "      <th>33</th>\n",
       "      <td>4708</td>\n",
       "      <td>1833</td>\n",
       "    </tr>\n",
       "    <tr>\n",
       "      <th>34</th>\n",
       "      <td>4836</td>\n",
       "      <td>1834</td>\n",
       "    </tr>\n",
       "    <tr>\n",
       "      <th>35</th>\n",
       "      <td>4932</td>\n",
       "      <td>1835</td>\n",
       "    </tr>\n",
       "    <tr>\n",
       "      <th>36</th>\n",
       "      <td>5024</td>\n",
       "      <td>1836</td>\n",
       "    </tr>\n",
       "    <tr>\n",
       "      <th>37</th>\n",
       "      <td>5134</td>\n",
       "      <td>1837</td>\n",
       "    </tr>\n",
       "    <tr>\n",
       "      <th>38</th>\n",
       "      <td>5213</td>\n",
       "      <td>1838</td>\n",
       "    </tr>\n",
       "    <tr>\n",
       "      <th>39</th>\n",
       "      <td>5416</td>\n",
       "      <td>1839</td>\n",
       "    </tr>\n",
       "    <tr>\n",
       "      <th>40</th>\n",
       "      <td>5886</td>\n",
       "      <td>1840</td>\n",
       "    </tr>\n",
       "    <tr>\n",
       "      <th>41</th>\n",
       "      <td>5325</td>\n",
       "      <td>1841</td>\n",
       "    </tr>\n",
       "    <tr>\n",
       "      <th>42</th>\n",
       "      <td>5671</td>\n",
       "      <td>1842</td>\n",
       "    </tr>\n",
       "    <tr>\n",
       "      <th>43</th>\n",
       "      <td>5596</td>\n",
       "      <td>1843</td>\n",
       "    </tr>\n",
       "    <tr>\n",
       "      <th>44</th>\n",
       "      <td>6017</td>\n",
       "      <td>1844</td>\n",
       "    </tr>\n",
       "    <tr>\n",
       "      <th>45</th>\n",
       "      <td>5892</td>\n",
       "      <td>1845</td>\n",
       "    </tr>\n",
       "    <tr>\n",
       "      <th>46</th>\n",
       "      <td>5700</td>\n",
       "      <td>1846</td>\n",
       "    </tr>\n",
       "    <tr>\n",
       "      <th>47</th>\n",
       "      <td>5733</td>\n",
       "      <td>1847</td>\n",
       "    </tr>\n",
       "    <tr>\n",
       "      <th>48</th>\n",
       "      <td>5951</td>\n",
       "      <td>1848</td>\n",
       "    </tr>\n",
       "    <tr>\n",
       "      <th>49</th>\n",
       "      <td>5760</td>\n",
       "      <td>1849</td>\n",
       "    </tr>\n",
       "  </tbody>\n",
       "</table>\n",
       "</div>"
      ],
      "text/plain": [
       "   personCount  year\n",
       "0         2052  1800\n",
       "1         4555  1801\n",
       "2         3465  1802\n",
       "3         3383  1803\n",
       "4         3553  1804\n",
       "5         3596  1805\n",
       "6         3470  1806\n",
       "7         3544  1807\n",
       "8         3841  1808\n",
       "9         3775  1809\n",
       "10        4200  1810\n",
       "11        3975  1811\n",
       "12        4084  1812\n",
       "13        3928  1813\n",
       "14        4069  1814\n",
       "15        4440  1815\n",
       "16        4201  1816\n",
       "17        4319  1817\n",
       "18        4495  1818\n",
       "19        4532  1819\n",
       "20        4884  1820\n",
       "21        4517  1821\n",
       "22        4479  1822\n",
       "23        4492  1823\n",
       "24        4550  1824\n",
       "25        4762  1825\n",
       "26        4521  1826\n",
       "27        4594  1827\n",
       "28        4732  1828\n",
       "29        4641  1829\n",
       "30        5092  1830\n",
       "31        4619  1831\n",
       "32        4691  1832\n",
       "33        4708  1833\n",
       "34        4836  1834\n",
       "35        4932  1835\n",
       "36        5024  1836\n",
       "37        5134  1837\n",
       "38        5213  1838\n",
       "39        5416  1839\n",
       "40        5886  1840\n",
       "41        5325  1841\n",
       "42        5671  1842\n",
       "43        5596  1843\n",
       "44        6017  1844\n",
       "45        5892  1845\n",
       "46        5700  1846\n",
       "47        5733  1847\n",
       "48        5951  1848\n",
       "49        5760  1849"
      ]
     },
     "execution_count": 89,
     "metadata": {},
     "output_type": "execute_result"
    }
   ],
   "source": [
    "xp = to_pandas(x)\n",
    "xp"
   ]
  },
  {
   "cell_type": "code",
   "execution_count": 62,
   "metadata": {},
   "outputs": [],
   "source": [
    "counts_frame  = to_pandas(counts)"
   ]
  },
  {
   "cell_type": "code",
   "execution_count": 63,
   "metadata": {},
   "outputs": [
    {
     "data": {
      "text/html": [
       "<div>\n",
       "<style scoped>\n",
       "    .dataframe tbody tr th:only-of-type {\n",
       "        vertical-align: middle;\n",
       "    }\n",
       "\n",
       "    .dataframe tbody tr th {\n",
       "        vertical-align: top;\n",
       "    }\n",
       "\n",
       "    .dataframe thead th {\n",
       "        text-align: right;\n",
       "    }\n",
       "</style>\n",
       "<table border=\"1\" class=\"dataframe\">\n",
       "  <thead>\n",
       "    <tr style=\"text-align: right;\">\n",
       "      <th></th>\n",
       "      <th>personCount</th>\n",
       "      <th>year</th>\n",
       "    </tr>\n",
       "  </thead>\n",
       "  <tbody>\n",
       "    <tr>\n",
       "      <th>0</th>\n",
       "      <td>6</td>\n",
       "      <td>-2999</td>\n",
       "    </tr>\n",
       "    <tr>\n",
       "      <th>1</th>\n",
       "      <td>1</td>\n",
       "      <td>-2950</td>\n",
       "    </tr>\n",
       "    <tr>\n",
       "      <th>2</th>\n",
       "      <td>1</td>\n",
       "      <td>-2914</td>\n",
       "    </tr>\n",
       "    <tr>\n",
       "      <th>3</th>\n",
       "      <td>13</td>\n",
       "      <td>-2900</td>\n",
       "    </tr>\n",
       "    <tr>\n",
       "      <th>4</th>\n",
       "      <td>1</td>\n",
       "      <td>-2889</td>\n",
       "    </tr>\n",
       "  </tbody>\n",
       "</table>\n",
       "</div>"
      ],
      "text/plain": [
       "  personCount   year\n",
       "0           6  -2999\n",
       "1           1  -2950\n",
       "2           1  -2914\n",
       "3          13  -2900\n",
       "4           1  -2889"
      ]
     },
     "execution_count": 63,
     "metadata": {},
     "output_type": "execute_result"
    }
   ],
   "source": [
    "counts_frame.head()"
   ]
  },
  {
   "cell_type": "code",
   "execution_count": 112,
   "metadata": {},
   "outputs": [
    {
     "data": {
      "text/plain": [
       "requests.exceptions.Timeout"
      ]
     },
     "execution_count": 112,
     "metadata": {},
     "output_type": "execute_result"
    }
   ],
   "source": [
    "requests.Timeout"
   ]
  },
  {
   "cell_type": "code",
   "execution_count": null,
   "metadata": {},
   "outputs": [],
   "source": []
  }
 ],
 "metadata": {
  "kernelspec": {
   "display_name": "Python 3",
   "language": "python",
   "name": "python3"
  },
  "language_info": {
   "codemirror_mode": {
    "name": "ipython",
    "version": 3
   },
   "file_extension": ".py",
   "mimetype": "text/x-python",
   "name": "python",
   "nbconvert_exporter": "python",
   "pygments_lexer": "ipython3",
   "version": "3.7.3"
  }
 },
 "nbformat": 4,
 "nbformat_minor": 2
}
