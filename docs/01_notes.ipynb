{
 "cells": [
  {
   "cell_type": "code",
   "execution_count": 1,
   "metadata": {},
   "outputs": [],
   "source": [
    "from cachecontrol.caches.file_cache import FileCache\n",
    "from cachecontrol  import CacheControl\n",
    "\n",
    "class WikidataQuery:\n",
    "    def __init__(self):\n",
    "        forever_cache = FileCache('.web_cache', forever=True)\n",
    "        self.file_cache = forever_cache\n",
    "        self.sess = CacheControl(requests.Session(), forever_cache)\n",
    "        \n",
    "    def get(self, query):\n",
    "        url = 'https://query.wikidata.org/sparql'\n",
    "        r = self.sess.get(url, params = {'format': 'json', 'query': query})\n",
    "        return r.json()\n",
    "        try:\n",
    "            data = r.json()    \n",
    "            return data\n",
    "        except requests.Timeout:\n",
    "            print(r)\n",
    "            return None\n",
    "    \n",
    "    def is_cached(self, query):\n",
    "        return self.file_cache.get(query)"
   ]
  },
  {
   "cell_type": "code",
   "execution_count": null,
   "metadata": {},
   "outputs": [],
   "source": []
  }
 ],
 "metadata": {
  "kernelspec": {
   "display_name": "Python 3",
   "language": "python",
   "name": "python3"
  },
  "language_info": {
   "codemirror_mode": {
    "name": "ipython",
    "version": 3
   },
   "file_extension": ".py",
   "mimetype": "text/x-python",
   "name": "python",
   "nbconvert_exporter": "python",
   "pygments_lexer": "ipython3",
   "version": "3.7.3"
  }
 },
 "nbformat": 4,
 "nbformat_minor": 2
}
