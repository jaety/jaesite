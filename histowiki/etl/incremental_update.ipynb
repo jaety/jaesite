{
 "cells": [
  {
   "cell_type": "code",
   "execution_count": 10,
   "metadata": {},
   "outputs": [
    {
     "name": "stdout",
     "output_type": "stream",
     "text": [
      "Q827975\n",
      "Q58325835\n",
      "Q77011763\n"
     ]
    }
   ],
   "source": [
    "import requests\n",
    "\n",
    "S = requests.Session()\n",
    "\n",
    "URL = \"https://wikidata.org/w/api.php\"\n",
    "\n",
    "PARAMS = {\n",
    "    \"format\": \"json\",\n",
    "    \"rcprop\": \"title|ids|user\",\n",
    "    \"list\": \"recentchanges\",\n",
    "    \"action\": \"query\",\n",
    "    \"rclimit\": \"3\"\n",
    "}\n",
    "\n",
    "R = S.get(url=URL, params=PARAMS)\n",
    "DATA = R.json()\n",
    "\n",
    "RECENTCHANGES = DATA['query']['recentchanges']\n",
    "\n",
    "for rc in RECENTCHANGES:\n",
    "    print(str(rc['title']))"
   ]
  },
  {
   "cell_type": "code",
   "execution_count": 9,
   "metadata": {},
   "outputs": [
    {
     "data": {
      "text/plain": [
       "{'batchcomplete': '',\n",
       " 'continue': {'rccontinue': '20191202011026|1105531175', 'continue': '-||'},\n",
       " 'query': {'recentchanges': [{'type': 'edit',\n",
       "    'ns': 0,\n",
       "    'title': 'Q75311848',\n",
       "    'pageid': 74803145,\n",
       "    'revid': 1067780667,\n",
       "    'old_revid': 1067780662,\n",
       "    'rcid': 1105531178,\n",
       "    'user': 'GZWDer (flood)',\n",
       "    'bot': ''},\n",
       "   {'type': 'new',\n",
       "    'ns': 0,\n",
       "    'title': 'Q77011741',\n",
       "    'pageid': 76491834,\n",
       "    'revid': 1067780666,\n",
       "    'old_revid': 0,\n",
       "    'rcid': 1105531177,\n",
       "    'user': 'Ghuron',\n",
       "    'new': ''},\n",
       "   {'type': 'edit',\n",
       "    'ns': 0,\n",
       "    'title': 'Q75779010',\n",
       "    'pageid': 75267662,\n",
       "    'revid': 1067780665,\n",
       "    'old_revid': 1066748436,\n",
       "    'rcid': 1105531176,\n",
       "    'user': 'GZWDer (flood)',\n",
       "    'bot': ''}]}}"
      ]
     },
     "execution_count": 9,
     "metadata": {},
     "output_type": "execute_result"
    }
   ],
   "source": [
    "DATA"
   ]
  },
  {
   "cell_type": "code",
   "execution_count": null,
   "metadata": {},
   "outputs": [],
   "source": []
  }
 ],
 "metadata": {
  "kernelspec": {
   "display_name": "Python 3",
   "language": "python",
   "name": "python3"
  },
  "language_info": {
   "codemirror_mode": {
    "name": "ipython",
    "version": 3
   },
   "file_extension": ".py",
   "mimetype": "text/x-python",
   "name": "python",
   "nbconvert_exporter": "python",
   "pygments_lexer": "ipython3",
   "version": "3.7.3"
  }
 },
 "nbformat": 4,
 "nbformat_minor": 2
}
