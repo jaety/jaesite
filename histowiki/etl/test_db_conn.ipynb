{
 "cells": [
  {
   "cell_type": "code",
   "execution_count": 11,
   "metadata": {},
   "outputs": [],
   "source": [
    "from psycopg2.extras import execute_values"
   ]
  },
  {
   "cell_type": "code",
   "execution_count": 2,
   "metadata": {},
   "outputs": [],
   "source": [
    "import wikidata as wd"
   ]
  },
  {
   "cell_type": "code",
   "execution_count": 27,
   "metadata": {},
   "outputs": [
    {
     "data": {
      "text/plain": [
       "<module 'wikidata' from '/Users/jaety/projects/jaesite/histowiki/etl/wikidata.py'>"
      ]
     },
     "execution_count": 27,
     "metadata": {},
     "output_type": "execute_result"
    }
   ],
   "source": [
    "import importlib\n",
    "importlib.reload(wd)"
   ]
  },
  {
   "cell_type": "code",
   "execution_count": 28,
   "metadata": {},
   "outputs": [],
   "source": [
    "ids = [1,2,3,4]"
   ]
  },
  {
   "cell_type": "code",
   "execution_count": 64,
   "metadata": {},
   "outputs": [],
   "source": [
    "def update_table(table_create_template, table_insert_template, table_values):\n",
    "    with wd.create_cursor() as cursor:\n",
    "        cursor.execute(table_create_template)\n",
    "        execute_values(cursor, table_insert_template, table_values)"
   ]
  },
  {
   "cell_type": "code",
   "execution_count": 65,
   "metadata": {},
   "outputs": [],
   "source": [
    "def insert_qids(qids):\n",
    "    sql_create = \"\"\"\n",
    "        CREATE TABLE IF NOT EXISTS person_qids (\n",
    "            qid integer PRIMARY KEY\n",
    "        )\n",
    "    \"\"\"\n",
    "    sql_insert = \"\"\"\n",
    "        INSERT INTO person_qids (qid) VALUES %s\n",
    "        ON CONFLICT (qid) DO NOTHING\n",
    "    \"\"\"\n",
    "    update_table(sql_create, sql_insert, [(x,) for x in qids])"
   ]
  },
  {
   "cell_type": "code",
   "execution_count": null,
   "metadata": {},
   "outputs": [],
   "source": []
  },
  {
   "cell_type": "code",
   "execution_count": 57,
   "metadata": {},
   "outputs": [],
   "source": [
    "sql_create = \"\"\"\n",
    "    CREATE TABLE IF NOT EXISTS test_ids (\n",
    "        id integer PRIMARY KEY,\n",
    "        id2 integer\n",
    "    )\n",
    "\"\"\"\n",
    "sql = \"\"\"\n",
    "    insert into test_ids (id,id2) VALUES %s\n",
    "    ON CONFLICT (id) DO UPDATE\n",
    "    SET id = excluded.id,\n",
    "        id2= excluded.id2;\n",
    "\"\"\""
   ]
  },
  {
   "cell_type": "code",
   "execution_count": 62,
   "metadata": {},
   "outputs": [],
   "source": [
    "insert_values = [(x,x+1) for x in ids]\n",
    "with wd.create_cursor() as cursor:\n",
    "    cursor.execute(sql_create)\n",
    "    execute_values(cursor, sql,insert_values)"
   ]
  },
  {
   "cell_type": "code",
   "execution_count": 63,
   "metadata": {},
   "outputs": [
    {
     "data": {
      "text/plain": [
       "[(1, 2), (2, 3), (3, 4), (4, 5)]"
      ]
     },
     "execution_count": 63,
     "metadata": {},
     "output_type": "execute_result"
    }
   ],
   "source": [
    "with wd.create_cursor() as cursor:\n",
    "    cursor.execute(\"select * from test_ids\")\n",
    "    data = cursor.fetchall()\n",
    "data"
   ]
  },
  {
   "cell_type": "code",
   "execution_count": null,
   "metadata": {},
   "outputs": [],
   "source": []
  }
 ],
 "metadata": {
  "kernelspec": {
   "display_name": "Python 3",
   "language": "python",
   "name": "python3"
  },
  "language_info": {
   "codemirror_mode": {
    "name": "ipython",
    "version": 3
   },
   "file_extension": ".py",
   "mimetype": "text/x-python",
   "name": "python",
   "nbconvert_exporter": "python",
   "pygments_lexer": "ipython3",
   "version": "3.7.3"
  }
 },
 "nbformat": 4,
 "nbformat_minor": 2
}
